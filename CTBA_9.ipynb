{
  "nbformat": 4,
  "nbformat_minor": 0,
  "metadata": {
    "colab": {
      "provenance": [],
      "authorship_tag": "ABX9TyNGBhbOT1I/JMBvz8ciu9Zz",
      "include_colab_link": true
    },
    "kernelspec": {
      "name": "python3",
      "display_name": "Python 3"
    },
    "language_info": {
      "name": "python"
    }
  },
  "cells": [
    {
      "cell_type": "markdown",
      "metadata": {
        "id": "view-in-github",
        "colab_type": "text"
      },
      "source": [
        "<a href=\"https://colab.research.google.com/github/jiyeongii/code_3rdpy/blob/main/CTBA_9.ipynb\" target=\"_parent\"><img src=\"https://colab.research.google.com/assets/colab-badge.svg\" alt=\"Open In Colab\"/></a>"
      ]
    },
    {
      "cell_type": "markdown",
      "source": [
        "1. 두가지 이상의 선택, 다방향 선택구조 코딩\n",
        " - 배송료처리 3가지로 작성\n",
        " - 변수 : price, 가격 10만원 이상 0원, 2만원이상 3000원, 그외 5000원"
      ],
      "metadata": {
        "id": "OqsUmLtNMjtH"
      }
    },
    {
      "cell_type": "code",
      "source": [
        "print(\"배송료를 게산합니다.\")\n",
        "print(\"#\" * 30)\n",
        "price = int(input(\"구입금액 입력: \"))\n",
        "if price >=100000:\n",
        "  shipping_cost = 0\n",
        "else:\n",
        "  if price >= 20000:\n",
        "    shipping_cost = 3000\n",
        "  else:\n",
        "    shipping_cost = 5000\n",
        "print(f'배송료는 {shipping_cost}원 입니다.')"
      ],
      "metadata": {
        "colab": {
          "base_uri": "https://localhost:8080/"
        },
        "id": "qqnCH7JnM8rg",
        "outputId": "c77b167f-e872-49a5-de33-15af93b67992"
      },
      "execution_count": 7,
      "outputs": [
        {
          "output_type": "stream",
          "name": "stdout",
          "text": [
            "배송료를 게산합니다.\n",
            "##############################\n",
            "구입금액 입력: 19000\n",
            "배송료는 5000원 입니다.\n"
          ]
        }
      ]
    },
    {
      "cell_type": "markdown",
      "source": [
        "2. 환영합니다. 5번 출력,10번 출력,30번 출력"
      ],
      "metadata": {
        "id": "ZBU0A9unOPeP"
      }
    },
    {
      "cell_type": "code",
      "source": [
        "print(\"환영합니다.\")\n",
        "print(\"환영합니다.\")\n",
        "print(\"환영합니다.\")\n",
        "print(\"환영합니다.\")"
      ],
      "metadata": {
        "colab": {
          "base_uri": "https://localhost:8080/"
        },
        "id": "ryLLKv1PObKY",
        "outputId": "a7390c2d-d542-4e8c-9036-ab3624d0dfe0"
      },
      "execution_count": 5,
      "outputs": [
        {
          "output_type": "stream",
          "name": "stdout",
          "text": [
            "환영합니다.\n",
            "환영합니다.\n",
            "환영합니다.\n",
            "환영합니다.\n"
          ]
        }
      ]
    },
    {
      "cell_type": "markdown",
      "source": [],
      "metadata": {
        "id": "W6BJFbOLOkM_"
      }
    },
    {
      "cell_type": "code",
      "source": [
        "print(\"환영합니다.\\n\"* 5)"
      ],
      "metadata": {
        "colab": {
          "base_uri": "https://localhost:8080/"
        },
        "id": "tc1JMyQBOk1_",
        "outputId": "4894f583-cfc1-485b-dfb9-8160e6a963a6"
      },
      "execution_count": 12,
      "outputs": [
        {
          "output_type": "stream",
          "name": "stdout",
          "text": [
            "환영합니다.\n",
            "환영합니다.\n",
            "환영합니다.\n",
            "환영합니다.\n",
            "환영합니다.\n",
            "\n"
          ]
        }
      ]
    },
    {
      "cell_type": "markdown",
      "source": [],
      "metadata": {
        "id": "irC-HiI-RmcQ"
      }
    },
    {
      "cell_type": "code",
      "source": [
        "count = 1\n",
        "while count <= 5:\n",
        "  #print(\"(\", count,\")\", \"환영합니다.\")\n",
        "  print(F'{count})환영합니다.')\n",
        "  #count = count + 1\n",
        "  count += 1"
      ],
      "metadata": {
        "colab": {
          "base_uri": "https://localhost:8080/"
        },
        "id": "k5C6OCwxSkQA",
        "outputId": "d052ae2b-6b04-4b4b-9752-2e0aeacd414a"
      },
      "execution_count": 25,
      "outputs": [
        {
          "output_type": "stream",
          "name": "stdout",
          "text": [
            "1)환영합니다.\n",
            "2)환영합니다.\n",
            "3)환영합니다.\n",
            "4)환영합니다.\n",
            "5)환영합니다.\n"
          ]
        }
      ]
    },
    {
      "cell_type": "markdown",
      "source": [
        "3. 0부터 9까지 출력하는 코드 작성"
      ],
      "metadata": {
        "id": "Pwo2CernUvBQ"
      }
    },
    {
      "cell_type": "code",
      "source": [
        "x = 1\n",
        "while x < 10:\n",
        "  print(x, end= ' ')\n",
        "  x += 1"
      ],
      "metadata": {
        "colab": {
          "base_uri": "https://localhost:8080/"
        },
        "id": "6qIbwK7VVDSn",
        "outputId": "1be636a8-10d2-4b4f-e804-a35c8eb09776"
      },
      "execution_count": 20,
      "outputs": [
        {
          "output_type": "stream",
          "name": "stdout",
          "text": [
            "1 2 3 4 5 6 7 8 9 "
          ]
        }
      ]
    },
    {
      "cell_type": "markdown",
      "source": [
        "4. 3-6-9 게임: (3의 배수 판단): 3의 배수를 3으로 나누면 나머지가 0이 되므로 (i mod 3)의 값이 0이면 박수를 출력, 아니면 숫자를 출력해주는 코드 작성"
      ],
      "metadata": {
        "id": "JnVW2zz7VooI"
      }
    },
    {
      "cell_type": "code",
      "source": [
        "i = 1                     # 변수 i는 0으로 선언\n",
        "while i <= 30:            # 반복문 while사용해서 i가 30보다 작거나 같을떄\n",
        "  if i % 3 == 0:          # 만약 i값을 3으로 나눈 나머지가 0이면\n",
        "    print(\"박수\",end=' ') # 박수를 출력하고 공백을 하나 만듦\n",
        "  else:                   # 위의 것이 아니면,\n",
        "   print(i, end=' ')      # i값만 출력하고 공백을 만듦\n",
        "  i += 1                  # 변수 i값에 i와 1을 더해서 다시 변수 i의 선언"
      ],
      "metadata": {
        "colab": {
          "base_uri": "https://localhost:8080/"
        },
        "id": "50oGsqDIWFkY",
        "outputId": "01780b47-a262-4fd4-e469-18377f0a66f0"
      },
      "execution_count": 27,
      "outputs": [
        {
          "output_type": "stream",
          "name": "stdout",
          "text": [
            "1 2 박수 4 5 박수 7 8 박수 10 11 박수 13 14 박수 16 17 박수 19 20 박수 22 23 박수 25 26 박수 28 29 박수 "
          ]
        }
      ]
    }
  ]
}