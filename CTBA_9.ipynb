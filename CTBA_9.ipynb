{
  "nbformat": 4,
  "nbformat_minor": 0,
  "metadata": {
    "colab": {
      "provenance": [],
      "authorship_tag": "ABX9TyPyi6drBonCTejYJdmCb0j2",
      "include_colab_link": true
    },
    "kernelspec": {
      "name": "python3",
      "display_name": "Python 3"
    },
    "language_info": {
      "name": "python"
    }
  },
  "cells": [
    {
      "cell_type": "markdown",
      "metadata": {
        "id": "view-in-github",
        "colab_type": "text"
      },
      "source": [
        "<a href=\"https://colab.research.google.com/github/jiyeongii/code_3rdpy/blob/main/CTBA_9.ipynb\" target=\"_parent\"><img src=\"https://colab.research.google.com/assets/colab-badge.svg\" alt=\"Open In Colab\"/></a>"
      ]
    },
    {
      "cell_type": "markdown",
      "source": [
        "1. 두가지 이상의 선택, 다방향 선택구조 코딩\n",
        " - 배송료처리 3가지로 작성\n",
        " - 변수 : price, 가격 10만원 이상 0원, 2만원이상 3000원, 그외 5000원"
      ],
      "metadata": {
        "id": "OqsUmLtNMjtH"
      }
    },
    {
      "cell_type": "code",
      "source": [
        "print(\"배송료를 게산합니다.\")\n",
        "print(\"#\" * 30)\n",
        "price = int(input(\"구입금액 입력: \"))\n",
        "if price >=100000:                          # 구입금액이 100,000원 이상인 경우\n",
        "  shipping_cost = 0                         # 배송료는 0원입니다.\n",
        "else:\n",
        "  if price >= 20000:                        # 구입금액이 20,000원 이상인 경우\n",
        "    shipping_cost = 3000                    # 배송료는 3,000원입니다.\n",
        "  else:                                     # 구입금액이 20,000원 미만인 경우\n",
        "    shipping_cost = 5000                    # 배송료는 5,000원입니다.\n",
        "print(f'배송료는 {shipping_cost}원 입니다.')"
      ],
      "metadata": {
        "colab": {
          "base_uri": "https://localhost:8080/"
        },
        "id": "qqnCH7JnM8rg",
        "outputId": "c77b167f-e872-49a5-de33-15af93b67992"
      },
      "execution_count": null,
      "outputs": [
        {
          "output_type": "stream",
          "name": "stdout",
          "text": [
            "배송료를 게산합니다.\n",
            "##############################\n",
            "구입금액 입력: 19000\n",
            "배송료는 5000원 입니다.\n"
          ]
        }
      ]
    },
    {
      "cell_type": "markdown",
      "source": [
        "2. 환영합니다. 5번 출력,10번 출력,30번 출력"
      ],
      "metadata": {
        "id": "ZBU0A9unOPeP"
      }
    },
    {
      "cell_type": "code",
      "source": [
        "print(\"환영합니다.\")\n",
        "print(\"환영합니다.\")\n",
        "print(\"환영합니다.\")\n",
        "print(\"환영합니다.\")"
      ],
      "metadata": {
        "colab": {
          "base_uri": "https://localhost:8080/"
        },
        "id": "ryLLKv1PObKY",
        "outputId": "a7390c2d-d542-4e8c-9036-ab3624d0dfe0"
      },
      "execution_count": null,
      "outputs": [
        {
          "output_type": "stream",
          "name": "stdout",
          "text": [
            "환영합니다.\n",
            "환영합니다.\n",
            "환영합니다.\n",
            "환영합니다.\n"
          ]
        }
      ]
    },
    {
      "cell_type": "markdown",
      "source": [],
      "metadata": {
        "id": "W6BJFbOLOkM_"
      }
    },
    {
      "cell_type": "code",
      "source": [
        "print(\"환영합니다.\\n\"* 5)"
      ],
      "metadata": {
        "colab": {
          "base_uri": "https://localhost:8080/"
        },
        "id": "tc1JMyQBOk1_",
        "outputId": "4894f583-cfc1-485b-dfb9-8160e6a963a6"
      },
      "execution_count": null,
      "outputs": [
        {
          "output_type": "stream",
          "name": "stdout",
          "text": [
            "환영합니다.\n",
            "환영합니다.\n",
            "환영합니다.\n",
            "환영합니다.\n",
            "환영합니다.\n",
            "\n"
          ]
        }
      ]
    },
    {
      "cell_type": "markdown",
      "source": [],
      "metadata": {
        "id": "irC-HiI-RmcQ"
      }
    },
    {
      "cell_type": "code",
      "source": [
        "count = 1                                  # 초기값으로 1을 설정합니다.\n",
        "while count <= 5:                          # count가 5 이하인 동안 반복합니다.\n",
        "  #print(\"(\", count,\")\", \"환영합니다.\")    # 현재의 count 값과 환영 메시지를 출력합니다.\n",
        "  #count = count + 1\n",
        "  count += 1                               # count를 1씩 증가시킵니다."
      ],
      "metadata": {
        "colab": {
          "base_uri": "https://localhost:8080/"
        },
        "id": "k5C6OCwxSkQA",
        "outputId": "d052ae2b-6b04-4b4b-9752-2e0aeacd414a"
      },
      "execution_count": null,
      "outputs": [
        {
          "output_type": "stream",
          "name": "stdout",
          "text": [
            "1)환영합니다.\n",
            "2)환영합니다.\n",
            "3)환영합니다.\n",
            "4)환영합니다.\n",
            "5)환영합니다.\n"
          ]
        }
      ]
    },
    {
      "cell_type": "markdown",
      "source": [
        "3. 0부터 9까지 출력하는 코드 작성"
      ],
      "metadata": {
        "id": "Pwo2CernUvBQ"
      }
    },
    {
      "cell_type": "code",
      "source": [
        "x = 1                 # 초기값으로 1을 설정합니다.\n",
        "while x < 10:         # x가 9 미만인 동안 반복합니다.\n",
        "  print(x, end= ' ')  # 현재의 x 값을 출력하고, 공백으로 구분합니다.\n",
        "  x += 1              # x를 1씩 증가시킵니다."
      ],
      "metadata": {
        "colab": {
          "base_uri": "https://localhost:8080/"
        },
        "id": "6qIbwK7VVDSn",
        "outputId": "1be636a8-10d2-4b4f-e804-a35c8eb09776"
      },
      "execution_count": null,
      "outputs": [
        {
          "output_type": "stream",
          "name": "stdout",
          "text": [
            "1 2 3 4 5 6 7 8 9 "
          ]
        }
      ]
    },
    {
      "cell_type": "markdown",
      "source": [
        "4. 1부터 10까지 정수의 합을 게산하여 출력하는 코드"
      ],
      "metadata": {
        "id": "OO_R1WszYZS5"
      }
    },
    {
      "cell_type": "code",
      "source": [
        "x = 1                # 초기값으로 1을 설정합니다.\n",
        "total = 0            # 초기값으로 0을 설정합니다.\n",
        "while x <= 10:       # x가 10 이하인 동안 반복합니다.\n",
        "  total = total + x  # 현재의 x 값을 total에 더하여 누적 합을 계산합니다.\n",
        "  x += 1             # x를 1씩 증가시킵니다.\n",
        "  print(total)        # 현재의 누적 합을 출력합니다."
      ],
      "metadata": {
        "colab": {
          "base_uri": "https://localhost:8080/"
        },
        "id": "a7fD0gjgYgnY",
        "outputId": "61f701af-77c7-41eb-9429-1751de709a31"
      },
      "execution_count": null,
      "outputs": [
        {
          "output_type": "stream",
          "name": "stdout",
          "text": [
            "1\n",
            "3\n",
            "6\n",
            "10\n",
            "15\n",
            "21\n",
            "28\n",
            "36\n",
            "45\n",
            "55\n"
          ]
        }
      ]
    },
    {
      "cell_type": "code",
      "source": [
        "x = 1           # 초기값으로 1을 설정합니다.\n",
        "while x <= 10:  # x가 10 이하인 동안 반복합니다.\n",
        "  print(x)      # 현재의 x 값을 출력합니다.\n",
        "  x += 1        # x를 1씩 증가시킵니다."
      ],
      "metadata": {
        "colab": {
          "base_uri": "https://localhost:8080/"
        },
        "id": "3Ovhy4BIY-yg",
        "outputId": "c9f4779f-cc25-4a4e-b1bb-8519143c03e2"
      },
      "execution_count": null,
      "outputs": [
        {
          "output_type": "stream",
          "name": "stdout",
          "text": [
            "1\n",
            "2\n",
            "3\n",
            "4\n",
            "5\n",
            "6\n",
            "7\n",
            "8\n",
            "9\n",
            "10\n"
          ]
        }
      ]
    },
    {
      "cell_type": "markdown",
      "source": [
        "4. 3-6-9 게임: (3의 배수 판단): 3의 배수를 3으로 나누면 나머지가 0이 되므로 (i mod 3)의 값이 0이면 박수를 출력, 아니면 숫자를 출력해주는 코드 작성"
      ],
      "metadata": {
        "id": "JnVW2zz7VooI"
      }
    },
    {
      "cell_type": "code",
      "source": [
        "i = 1                     # 변수 i는 0으로 선언\n",
        "while i <= 30:            # 반복문 while사용해서 i가 30보다 작거나 같을떄\n",
        "  if i % 3 == 0:          # 만약 i값을 3으로 나눈 나머지가 0이면\n",
        "    print(\"박수\",end=' ') # 박수를 출력하고 공백을 하나 만듦\n",
        "  else:                   # 위의 것이 아니면,\n",
        "   print(i, end=' ')      # i값만 출력하고 공백을 만듦\n",
        "  i += 1                  # 변수 i값에 i와 1을 더해서 다시 변수 i의 선언"
      ],
      "metadata": {
        "colab": {
          "base_uri": "https://localhost:8080/"
        },
        "id": "50oGsqDIWFkY",
        "outputId": "01780b47-a262-4fd4-e469-18377f0a66f0"
      },
      "execution_count": null,
      "outputs": [
        {
          "output_type": "stream",
          "name": "stdout",
          "text": [
            "1 2 박수 4 5 박수 7 8 박수 10 11 박수 13 14 박수 16 17 박수 19 20 박수 22 23 박수 25 26 박수 28 29 박수 "
          ]
        }
      ]
    },
    {
      "cell_type": "code",
      "source": [
        "for num in range(1, 11):     # 1부터 11까지의 숫자를 반복\n",
        "  if num % 3 == 0:           # 숫자(num)를 3으로 나눈 나머지가 0인 경우\n",
        "   print(\"박수\", end=' ')    # 박수를 출력하고 공백 만듦\n",
        "  else:                      # 그게 아니면\n",
        "   print(num, end=' ')       # 숫자만 출력하고 공백 만듦"
      ],
      "metadata": {
        "colab": {
          "base_uri": "https://localhost:8080/"
        },
        "id": "1x-3MkGTZKfI",
        "outputId": "c48760b4-790a-4411-c225-975a222fd030"
      },
      "execution_count": null,
      "outputs": [
        {
          "output_type": "stream",
          "name": "stdout",
          "text": [
            "1 2 박수 4 5 박수 7 8 박수 10 "
          ]
        }
      ]
    },
    {
      "cell_type": "markdown",
      "source": [
        "6. 팩토리얼 계산하는 코드 작성"
      ],
      "metadata": {
        "id": "evvxvmdbafLJ"
      }
    },
    {
      "cell_type": "code",
      "source": [
        "i = int(input(\"팩토리얼 값입력: \")) # 사용자로부터 정수를 입력받아 i 변수에 저장합니다.\n",
        "factorial = 1                       # 초기값을 1로 설정합니다.\n",
        "while i >= 1:                       # i가 1 이상인 동안 반복합니다.\n",
        "  factorial = factorial * i         # factorial에 i를 곱하여 ㅕㄹ과를 factorial에 저장합니다.\n",
        "  i -= 1                            # i를 1씩 감소시킵니다.\n",
        "print(factorial)                    # 최종적으로 계산된 factorial 값을 출력합니다."
      ],
      "metadata": {
        "colab": {
          "base_uri": "https://localhost:8080/"
        },
        "id": "T_fUQ3K1ajZZ",
        "outputId": "8462335e-f122-4328-a59d-20b5d09289f6"
      },
      "execution_count": null,
      "outputs": [
        {
          "output_type": "stream",
          "name": "stdout",
          "text": [
            "팩토리얼 값입력: 5\n",
            "120\n"
          ]
        }
      ]
    },
    {
      "cell_type": "code",
      "source": [
        "num = int(input(\"팩토리얼 값입력: \"))       # 사용자로부터  팩토리얼 값을 계산할 숫자를 입력받습니다.\n",
        "factorial = 1                               # 초기값을 1로 설정합니다.\n",
        "while num >= 1:                             # 입력받은 숫자부터 1까지의 모든 숫자에 대해 반복합니다.\n",
        "  factorial = factorial * num               # factorial에 num을 곱하여 값을 갱신합니다.\n",
        "  num -= 1                                  # num을 1씩 감소시킵니다.\n",
        "print(\"계산된 팩토리얼 값은 :\", factorial)  #계산된 팩토리얼 값을 출력합니다."
      ],
      "metadata": {
        "colab": {
          "base_uri": "https://localhost:8080/"
        },
        "id": "hkajXK14bkyx",
        "outputId": "5b3aaf7a-a687-4a50-b98d-c0f6d67d22b7"
      },
      "execution_count": null,
      "outputs": [
        {
          "output_type": "stream",
          "name": "stdout",
          "text": [
            "팩토리얼 값입력: 1\n",
            "계산된 팩토리얼 값은 : 1\n"
          ]
        }
      ]
    }
  ]
}