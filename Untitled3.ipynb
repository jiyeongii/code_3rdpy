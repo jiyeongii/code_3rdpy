{
  "nbformat": 4,
  "nbformat_minor": 0,
  "metadata": {
    "colab": {
      "provenance": [],
      "authorship_tag": "ABX9TyMZ2IdnDOukz0r2YSW33DYz",
      "include_colab_link": true
    },
    "kernelspec": {
      "name": "python3",
      "display_name": "Python 3"
    },
    "language_info": {
      "name": "python"
    }
  },
  "cells": [
    {
      "cell_type": "markdown",
      "metadata": {
        "id": "view-in-github",
        "colab_type": "text"
      },
      "source": [
        "<a href=\"https://colab.research.google.com/github/jiyeongii/code_3rdpy/blob/main/Untitled3.ipynb\" target=\"_parent\"><img src=\"https://colab.research.google.com/assets/colab-badge.svg\" alt=\"Open In Colab\"/></a>"
      ]
    },
    {
      "cell_type": "markdown",
      "source": [
        "1. 배열의 선언\n",
        "  - 일반 변수의 선언 : 변수명 = 변수의 값\n",
        "  - 배열의 변수 선언 : 변수명 = [..]"
      ],
      "metadata": {
        "id": "TfMcJ5AwMQhm"
      }
    },
    {
      "cell_type": "markdown",
      "source": [],
      "metadata": {
        "id": "BypzTAe3NZEx"
      }
    },
    {
      "cell_type": "code",
      "source": [
        "movie_list = [\"아바타\", \"타이타닉\", \"스타워즈\", \"주라기월드\", \"어벤저스\"]  # movie_list라는 이름의 리스트를 생성하고, 여러 영화 제목을 요소로 저장합니다.\n",
        "print(day_list[0])                                                         # movie_list의 첫 번째 요소를 출력합니다. 파이썬의 인덱스는 0부터 시작하므로, [0]은 리스트의 첫 번째 요소를 의미합니다.\n",
        "print(day_list[1])\n",
        "print(movie_list[0])                                                       # movie_list의 다섯 번째 요소를 출력합니다. 파이썬의 인덱스는 0부터 시작하므로, [4]는 리스트의 다섯 번째 요소를 의미합니다.\n",
        "print(movie_list[4])"
      ],
      "metadata": {
        "colab": {
          "base_uri": "https://localhost:8080/"
        },
        "id": "_7XENCNSNZWY",
        "outputId": "b4d76ee5-b6a5-4617-c11a-16a257e20584"
      },
      "execution_count": null,
      "outputs": [
        {
          "output_type": "stream",
          "name": "stdout",
          "text": [
            "아바타\n",
            "어벤저스\n"
          ]
        }
      ]
    },
    {
      "cell_type": "markdown",
      "source": [
        "2. 요일을 배열로 선언하라.\n",
        "  - 변수명 : day-list\n",
        "  * 요일 : 월(mon),화(Tues),수(wed),목(Thur),금(Fri),토(Sat),일(Sun)"
      ],
      "metadata": {
        "id": "QfdQN2K7ObQx"
      }
    },
    {
      "cell_type": "code",
      "source": [
        "day_list = [\"월(mon)\",\"화(Tues)\", \"수(Wed)\",\"목(Thur)\",\"금(Fri),\"토(Sat)\",\"일(Sun)\"]        # day_list라는 이름의 리스트를 생성하고, 요일 정보를 요소로 저장합니다.\n",
        "print(day_list[0])                                                                          # day_list의 첫 번째 요소를 출력합니다. 파이썬의 인덱스는 0부터 시작하므로, [0]은 리스트의 첫 번째 요소를 의미합니다.\n",
        "print(day_list[1])                                                                          # day_list의 두 번째 요소를 출력합니다. 파이썬의 인덱스는 0부터 시작하므로, [1]은 리스트의 두 번째 요소를 의미합니다."
      ],
      "metadata": {
        "colab": {
          "base_uri": "https://localhost:8080/",
          "height": 147
        },
        "id": "hn_AKSIyPBnS",
        "outputId": "a1e7b875-c875-4ffc-c6c7-ebdccb26b90a"
      },
      "execution_count": null,
      "outputs": [
        {
          "output_type": "error",
          "ename": "SyntaxError",
          "evalue": "ignored",
          "traceback": [
            "\u001b[0;36m  File \u001b[0;32m\"<ipython-input-6-da815199d26f>\"\u001b[0;36m, line \u001b[0;32m1\u001b[0m\n\u001b[0;31m    day_list = [\"월(mon)\",\"화(Tues)\", \"수(Wed)\",\"목(Thur)\",\"금(Fri),\"토(Sat)\",\"일(Sun)\"]\u001b[0m\n\u001b[0m                                                                               ^\u001b[0m\n\u001b[0;31mSyntaxError\u001b[0m\u001b[0;31m:\u001b[0m unterminated string literal (detected at line 1)\n"
          ]
        }
      ]
    },
    {
      "cell_type": "markdown",
      "source": [],
      "metadata": {
        "id": "ilJXNqBsPM7J"
      }
    }
  ]
}