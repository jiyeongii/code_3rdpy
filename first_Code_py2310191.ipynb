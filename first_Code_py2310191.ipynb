{
  "nbformat": 4,
  "nbformat_minor": 0,
  "metadata": {
    "colab": {
      "provenance": [],
      "authorship_tag": "ABX9TyNyeJrNTgT6jQ+xfX75EKsy",
      "include_colab_link": true
    },
    "kernelspec": {
      "name": "python3",
      "display_name": "Python 3"
    },
    "language_info": {
      "name": "python"
    }
  },
  "cells": [
    {
      "cell_type": "markdown",
      "metadata": {
        "id": "view-in-github",
        "colab_type": "text"
      },
      "source": [
        "<a href=\"https://colab.research.google.com/github/jiyeongii/code_3rdpy/blob/main/first_Code_py2310191.ipynb\" target=\"_parent\"><img src=\"https://colab.research.google.com/assets/colab-badge.svg\" alt=\"Open In Colab\"/></a>"
      ]
    },
    {
      "cell_type": "code",
      "execution_count": null,
      "metadata": {
        "id": "hOED3GMAYBql"
      },
      "outputs": [],
      "source": []
    },
    {
      "cell_type": "markdown",
      "source": [
        "1. To-Do list를 작성하시오\n",
        "-  2023년 10월 19일 전지영\n",
        "- (1) 도서관에서 책 빌리기\n",
        "- (2) 11:10 컴퓨팅적 사고와 기초코딩 수업\n",
        "- (3) 13:00 점심식사\n",
        "- (4) 14;00 교양수업\n",
        "- (5) 16:00 파이썬 공부 및 레포트 작성\n",
        "- (6) 17:40 저녁식사 및 집안일 돕기\n",
        "- (7) 19:00 LOL하기\n"
      ],
      "metadata": {
        "id": "1ONjPv46YEzE"
      }
    },
    {
      "cell_type": "code",
      "source": [
        "print(\"To-do list\")\n",
        "print(\"(1) 도서관에서 책 빌리기\")\n",
        "print(\"(2) 11:10 컴퓨팅적 사고와 기초코딩 수업\")\n",
        "print(\"(3) 13:00 점심식사\")\n",
        "print(\"(4) 14:00 교양수업\")\n",
        "print(\"(5) 16:00 파이썬 공부 및 레포트 작성 \")\n",
        "print(\"(6) 17:40 저녁식사 및 집안일 돕기 \")\n",
        "print(\"(7) 19:00 LOL하기\")"
      ],
      "metadata": {
        "colab": {
          "base_uri": "https://localhost:8080/"
        },
        "id": "_X4wlLuYY55o",
        "outputId": "f18e96f4-22a8-40bd-cb99-50e1fe6995f8"
      },
      "execution_count": 1,
      "outputs": [
        {
          "output_type": "stream",
          "name": "stdout",
          "text": [
            "To-do list\n",
            "(1) 도서관에서 책 빌리기\n",
            "(2) 11:10 컴퓨팅적 사고와 기초코딩 수업\n",
            "(3) 13:00 점심식사\n",
            "(4) 14:00 교양수업\n",
            "(5) 16:00 파이썬 공부 및 레포트 작성 \n",
            "(6) 17:40 저녁식사 및 집안일 돕기 \n",
            "(7) 19:00 LOL하기\n"
          ]
        }
      ]
    },
    {
      "cell_type": "markdown",
      "source": [
        "2. 인사말 출력하기"
      ],
      "metadata": {
        "id": "J7c4qMmIZ1OH"
      }
    },
    {
      "cell_type": "markdown",
      "source": [
        "- 식사하셨습니까? 형님"
      ],
      "metadata": {
        "id": "CbmmBB2rZ8W3"
      }
    },
    {
      "cell_type": "code",
      "source": [
        "print(\"인사말 출력하기\")\n",
        "print(\"식사하셨습니까? 형님\")"
      ],
      "metadata": {
        "colab": {
          "base_uri": "https://localhost:8080/"
        },
        "id": "0AiON4mcaAaw",
        "outputId": "72ca01ce-6400-4f0a-84b6-42d63cd7f7ea"
      },
      "execution_count": 2,
      "outputs": [
        {
          "output_type": "stream",
          "name": "stdout",
          "text": [
            "인사말 출력하기\n",
            "식사하셨습니까? 형님\n"
          ]
        }
      ]
    },
    {
      "cell_type": "markdown",
      "source": [
        "3. 학생 4명의 국어점수를 입력받아서 아래와 같이 출력하시오\n",
        "- 박보검: 90점\n",
        "- 션: 92점\n",
        "- 도룡용: 80점\n",
        "- 차은우: 99점\n",
        "- 1등 차은우\n",
        "- 2등 션\n",
        "- 3등 박보검\n",
        "- 4등 도룡용\n"
      ],
      "metadata": {
        "id": "G168tpHfZwro"
      }
    },
    {
      "cell_type": "code",
      "source": [
        "n1 = (input(\"박보검의 국어점수: \"))\n",
        "n2 = (input(\"션의 국어점수: \"))\n",
        "n3 = (input(\"도룡용의 국어점수: \"))\n",
        "n4 = (input(\"차은우의 국어점수:  \"))\n",
        "print(\"1등 차은우\", n4, \"점\")\n",
        "print(\"2등 션\", n2, \"점\")\n",
        "print(\"3등 박보검\", n1, \"점\")\n",
        "print(\"4등 도룡용\", n3, \"점\")"
      ],
      "metadata": {
        "colab": {
          "base_uri": "https://localhost:8080/"
        },
        "id": "ExaMiBoyarVe",
        "outputId": "9943b089-a266-44ae-d286-f9b44ead42ca"
      },
      "execution_count": 3,
      "outputs": [
        {
          "output_type": "stream",
          "name": "stdout",
          "text": [
            "박보검의 국어점수: 90\n",
            "션의 국어점수: 92\n",
            "도룡용의 국어점수: 80\n",
            "차은우의 국어점수:  99\n",
            "1등 차은우 99 점\n",
            "2등 션 92 점\n",
            "3등 박보검 90 점\n",
            "4등 도룡용 80 점\n"
          ]
        }
      ]
    },
    {
      "cell_type": "markdown",
      "source": [
        "4. 두개의 점수를 입력받아서 합계와 평균을 출력하시오."
      ],
      "metadata": {
        "id": "-4nnBry-brlr"
      }
    },
    {
      "cell_type": "code",
      "source": [
        "n1 = int(input(\"n1의 값을 입력하시오.:\"))\n",
        "n2 = int(input(\"n2의 값을 입력하시오.:\"))\n",
        "total= n1 + n2\n",
        "average = total / 2\n",
        "print(total)\n",
        "print(average)"
      ],
      "metadata": {
        "colab": {
          "base_uri": "https://localhost:8080/"
        },
        "id": "SmgCcZHHb04g",
        "outputId": "c43c1bbb-af85-4cf0-9095-9388ce8ae024"
      },
      "execution_count": 4,
      "outputs": [
        {
          "output_type": "stream",
          "name": "stdout",
          "text": [
            "n1의 값을 입력하시오.:60\n",
            "n2의 값을 입력하시오.:65\n",
            "125\n",
            "62.5\n"
          ]
        }
      ]
    }
  ]
}