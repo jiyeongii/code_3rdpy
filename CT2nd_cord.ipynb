{
  "nbformat": 4,
  "nbformat_minor": 0,
  "metadata": {
    "colab": {
      "provenance": [],
      "authorship_tag": "ABX9TyOefyGkU2lklHm1IUK0CIGe",
      "include_colab_link": true
    },
    "kernelspec": {
      "name": "python3",
      "display_name": "Python 3"
    },
    "language_info": {
      "name": "python"
    }
  },
  "cells": [
    {
      "cell_type": "markdown",
      "metadata": {
        "id": "view-in-github",
        "colab_type": "text"
      },
      "source": [
        "<a href=\"https://colab.research.google.com/github/jiyeongii/code_3rdpy/blob/main/CT2nd_cord.ipynb\" target=\"_parent\"><img src=\"https://colab.research.google.com/assets/colab-badge.svg\" alt=\"Open In Colab\"/></a>"
      ]
    },
    {
      "cell_type": "markdown",
      "source": [
        "2번째 코딩\n",
        "- 사용자로부터 3개의 값을 받아서 합을 내고,평균을 출력하는 코드"
      ],
      "metadata": {
        "id": "CpPsAs_rKgM6"
      }
    },
    {
      "cell_type": "code",
      "execution_count": null,
      "metadata": {
        "colab": {
          "base_uri": "https://localhost:8080/"
        },
        "id": "Qj4MlRUhG2Bj",
        "outputId": "ffbcadac-f188-427b-aaa1-110e272d4fbf"
      },
      "outputs": [
        {
          "output_type": "stream",
          "name": "stdout",
          "text": [
            "N1의 값을 입력하시오.:40\n",
            "N2의 값을 입력하시오.:50\n",
            "N3의 값을 입력하시오.:60\n",
            "50.0\n"
          ]
        }
      ],
      "source": [
        "n1 = int(input(\"N1의 값을 입력하시오.:\"))  # 사용자로부터 첫 번째 정수를 입력받아 n1 변수에 저장합니다.\n",
        "n2 = int(input(\"N2의 값을 입력하시오.:\"))  # 사용자로부터 두 번째 정수를 입력받아 n2 변수에 저장합니다.\n",
        "n3 = int(input(\"N3의 값을 입력하시오.:\"))  # 사용자로부터 세 번째 정수를 입력받아 n3 변수에 저장합니다.\n",
        "total = n1 + n2 + n3                       # 세 변수의 합을 total이라는 새로운 변수에 저장합니다.\n",
        "average = total / 3                        # total 값을 3으로 나누어 평균 값을 계산하고, 이를 average라는 새로운 변수에 저장합니다.\n",
        "print(average)                             # 계산된 평균 값을 출력합니다."
      ]
    }
  ]
}