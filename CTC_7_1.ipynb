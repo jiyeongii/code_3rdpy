{
  "nbformat": 4,
  "nbformat_minor": 0,
  "metadata": {
    "colab": {
      "provenance": [],
      "authorship_tag": "ABX9TyPstskRrvvhbxMHHQJlzXQw",
      "include_colab_link": true
    },
    "kernelspec": {
      "name": "python3",
      "display_name": "Python 3"
    },
    "language_info": {
      "name": "python"
    }
  },
  "cells": [
    {
      "cell_type": "markdown",
      "metadata": {
        "id": "view-in-github",
        "colab_type": "text"
      },
      "source": [
        "<a href=\"https://colab.research.google.com/github/jiyeongii/code_3rdpy/blob/main/CTC_7_1.ipynb\" target=\"_parent\"><img src=\"https://colab.research.google.com/assets/colab-badge.svg\" alt=\"Open In Colab\"/></a>"
      ]
    },
    {
      "cell_type": "code",
      "execution_count": null,
      "metadata": {
        "id": "uVU58gVwHr1y"
      },
      "outputs": [],
      "source": []
    },
    {
      "cell_type": "markdown",
      "source": [
        "1. 사용자로부터 3개의 값 (x,y,z)을 입력 받아서 각각 1씩 증가되고, 출력되는 코드작성"
      ],
      "metadata": {
        "id": "dLVZPcMBHsKD"
      }
    },
    {
      "cell_type": "code",
      "source": [
        "x= int(input(\"x의 값을 입력하시오.:\"))\n",
        "y= int(input(\"y의 값을 입력하시오.:\"))\n",
        "z= int(input(\"z의 값을 입력하시오.:\"))\n",
        "x = x + 1\n",
        "y = y + 1\n",
        "z = z + 1\n",
        "print(f'x의 값은 {x}이며, y의 값은 {y}이고, z의 값은 {z}이다. ')"
      ],
      "metadata": {
        "colab": {
          "base_uri": "https://localhost:8080/"
        },
        "id": "-rPy95eAH910",
        "outputId": "9a9cf6df-1cfa-4956-c6c2-e8f2360c9b41"
      },
      "execution_count": null,
      "outputs": [
        {
          "output_type": "stream",
          "name": "stdout",
          "text": [
            "x의 값을 입력하시오.:1\n",
            "y의 값을 입력하시오.:2\n",
            "z의 값을 입력하시오.:4\n",
            "x의 값은 2이며, y의 값은 3이고, z의 값은 5이다. \n"
          ]
        }
      ]
    },
    {
      "cell_type": "markdown",
      "source": [
        "2. 알바생의 시급과 시간을 계산하여 월급을 출력한 코드\n"
      ],
      "metadata": {
        "id": "_UaJI9EsJU8X"
      }
    },
    {
      "cell_type": "code",
      "source": [
        "hours_worked = int(input(\"일한 시간을 입력하시오.:\"))\n",
        "pay_rate = int(input(\"시급을 입력하시오(23기준 9620원):\"))\n",
        "monthly_pay = hours_worked * pay_rate\n",
        "print(f'일한시간은 {hours_worked}이고, 시급은 {pay_rate}원이며, 월급여는 {monthly_pay}입니다.')"
      ],
      "metadata": {
        "colab": {
          "base_uri": "https://localhost:8080/"
        },
        "id": "FchMZ-vPJeNu",
        "outputId": "6ed7b4bd-810e-4111-d385-61b3003cf50e"
      },
      "execution_count": null,
      "outputs": [
        {
          "output_type": "stream",
          "name": "stdout",
          "text": [
            "일한 시간을 입력하시오.:10\n",
            "시급을 입력하시오(23기준 9620원):9620\n",
            "일한시간은 10이고, 시급은 9620원이며, 월급여는 96200입니다.\n"
          ]
        }
      ]
    },
    {
      "cell_type": "markdown",
      "source": [
        "3. 환율계산하는 코드작성\n",
        " - 원의 변수는 won\n",
        " - 달러의 변수는 usd\n",
        " - 환전의 변수는 exchange"
      ],
      "metadata": {
        "id": "jkuxI2yoLoy2"
      }
    },
    {
      "cell_type": "code",
      "source": [
        "won = int(input(\"환전할 금액을 입력(kor):\"))\n",
        "usd = int(input(\"현재 달러의 환율 입력(231031: 1372):\"))\n",
        "exchange = won * usd\n",
        "print(f' 환전할 금액은 {won}이며, 달러 금액은 {usd}이고, 환전금액은 {exchange}입니다.')"
      ],
      "metadata": {
        "colab": {
          "base_uri": "https://localhost:8080/"
        },
        "id": "_CI_CuW4MABI",
        "outputId": "6a8da3e1-dfdb-4d95-bb2a-9ca45f5c8497"
      },
      "execution_count": null,
      "outputs": [
        {
          "output_type": "stream",
          "name": "stdout",
          "text": [
            "환전할 금액을 입력(kor):5000\n",
            "현재 달러의 환율 입력(231031: 1372):1372\n",
            " 환전할 금액은 5000이며, 달러 금액은 1372이고, 환전금액은 6860000입니다.\n"
          ]
        }
      ]
    },
    {
      "cell_type": "markdown",
      "source": [
        "4. 화씨(fahrenheit)를 섭씨(celcius)로 변환하는 코드작성\n"
      ],
      "metadata": {
        "id": "UcN-pZeTN_1-"
      }
    },
    {
      "cell_type": "code",
      "source": [
        "fahrenheit = int(input(\"화씨온도를 입력하시오.:\"))\n",
        "celcius = (fahrenheit - 32) / 1.8\n",
        "print(f'화씨온도는 {fahrenheit}도는. 섭씨 {celcius} 입니다.:')"
      ],
      "metadata": {
        "colab": {
          "base_uri": "https://localhost:8080/"
        },
        "id": "DkOvkkuQOWno",
        "outputId": "dcfa4658-af13-4e68-a92c-2d98095f38f1"
      },
      "execution_count": null,
      "outputs": [
        {
          "output_type": "stream",
          "name": "stdout",
          "text": [
            "화씨온도를 입력하시오.:100\n",
            "화씨온도는 100도는. 섭씨 37.77777777777778 입니다.:\n"
          ]
        }
      ]
    },
    {
      "cell_type": "code",
      "source": [
        "celcius = float(input(\"섭씨온도를 입력하시오.:\"))\n",
        "fahrenheit = (celcius * 1.8) + 32\n",
        "print(f'섭씨온도는 {celcius}도는, 화씨 {fahrenheit}도 입니다.')"
      ],
      "metadata": {
        "colab": {
          "base_uri": "https://localhost:8080/"
        },
        "id": "JrNrDA_tPwaW",
        "outputId": "0f7b281d-6297-409d-df2e-4c48db03281c"
      },
      "execution_count": null,
      "outputs": [
        {
          "output_type": "stream",
          "name": "stdout",
          "text": [
            "섭씨온도를 입력하시오.:37.77777777777778\n",
            "섭씨온도는 37.77777777777778도는, 화씨 100.0도 입니다.\n"
          ]
        }
      ]
    },
    {
      "cell_type": "markdown",
      "source": [
        "5. 사용자로부터 2개의 정수를 받아서 합계를 출력"
      ],
      "metadata": {
        "id": "q_tZnfp9U5eG"
      }
    },
    {
      "cell_type": "code",
      "source": [
        "print (\"정수를 입력하시오.\")\n",
        "x = int(input(\"x :\"))\n",
        "y = int(input(\"y :\"))\n",
        "sum = x + y\n",
        "print (\"합계:\", sum)\n"
      ],
      "metadata": {
        "colab": {
          "base_uri": "https://localhost:8080/"
        },
        "id": "HI-M9UouVCQ9",
        "outputId": "39c930c6-be16-4a58-9697-c35c089f36e5"
      },
      "execution_count": 23,
      "outputs": [
        {
          "output_type": "stream",
          "name": "stdout",
          "text": [
            "정수를 입력하시오.\n",
            "x :1\n",
            "y :2\n",
            "합계: 3\n"
          ]
        }
      ]
    },
    {
      "cell_type": "markdown",
      "source": [
        "6. 부가세 계산"
      ],
      "metadata": {
        "id": "NCDxtNmtXaoV"
      }
    },
    {
      "cell_type": "code",
      "source": [
        "print(\"상품의 가격을 입력하시오.\")\n",
        "price = int(input(\"가격을 입력하시오.:\"))\n",
        "vat = price * 0.1\n",
        "print(\"해당 가격의 VAT값은\", vat,\"이다.\")"
      ],
      "metadata": {
        "colab": {
          "base_uri": "https://localhost:8080/"
        },
        "id": "58T8JJRxXdQl",
        "outputId": "8f87a4e5-2f67-449e-a296-30924165a532"
      },
      "execution_count": 24,
      "outputs": [
        {
          "output_type": "stream",
          "name": "stdout",
          "text": [
            "상품의 가격을 입력하시오.\n",
            "가격을 입력하시오.:4000\n",
            "해당 가격의 VAT값은 400.0 이다.\n"
          ]
        }
      ]
    }
  ]
}