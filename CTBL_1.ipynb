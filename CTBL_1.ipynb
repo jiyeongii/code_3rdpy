{
  "nbformat": 4,
  "nbformat_minor": 0,
  "metadata": {
    "colab": {
      "provenance": [],
      "authorship_tag": "ABX9TyONzPUwouQNSUDko2Bv84vy",
      "include_colab_link": true
    },
    "kernelspec": {
      "name": "python3",
      "display_name": "Python 3"
    },
    "language_info": {
      "name": "python"
    }
  },
  "cells": [
    {
      "cell_type": "markdown",
      "metadata": {
        "id": "view-in-github",
        "colab_type": "text"
      },
      "source": [
        "<a href=\"https://colab.research.google.com/github/jiyeongii/code_3rdpy/blob/main/CTBL_1.ipynb\" target=\"_parent\"><img src=\"https://colab.research.google.com/assets/colab-badge.svg\" alt=\"Open In Colab\"/></a>"
      ]
    },
    {
      "cell_type": "code",
      "execution_count": null,
      "metadata": {
        "id": "rQuDep8j08HM"
      },
      "outputs": [],
      "source": []
    },
    {
      "cell_type": "markdown",
      "source": [
        "1. 학생으로부터 성적을 입력받아 합격유무를 출력하는 코드작성\n",
        " - 사용변수: Grade\n",
        " - 사용수식: Grade>=70:\n"
      ],
      "metadata": {
        "id": "dCsEgi8908hK"
      }
    },
    {
      "cell_type": "code",
      "source": [
        "Grade = int(input(\"성적입력: \"))\n",
        "if Grade >=70:\n",
        "   print(\"70점 이상이므로 합격\")\n",
        "else:\n",
        "  print(\"70점 이하는 불합격\")"
      ],
      "metadata": {
        "colab": {
          "base_uri": "https://localhost:8080/"
        },
        "id": "MUzQseCy1Oy5",
        "outputId": "ae003769-833b-4b93-f6a0-08551daef03d"
      },
      "execution_count": 2,
      "outputs": [
        {
          "output_type": "stream",
          "name": "stdout",
          "text": [
            "성적입력: 80\n",
            "70점 이상이므로 합격\n"
          ]
        }
      ]
    },
    {
      "cell_type": "markdown",
      "source": [
        "2. 쇼핑몰의 배송료를 계산하는 코드작성\n",
        " - 변수명 : price, shipping_cost\n",
        " - 수식 : price >= 20000  \n",
        " - shipping_cost=3000"
      ],
      "metadata": {
        "id": "GtEZYHFo3rr4"
      }
    },
    {
      "cell_type": "code",
      "source": [
        "price = int(input(\"구입금액 입력: \"))\n",
        "if price >= 20000:\n",
        " shipping_cost = 0\n",
        " print(f'구입금액이 {price}원 이상입니다.')\n",
        "else:\n",
        "  shipping_cost = 3000\n",
        "  print(\"구입금액이 2만원 이하입니다.\")\n",
        "print(f'회원님의 배송료는 {shipping_cost}입니다.')"
      ],
      "metadata": {
        "colab": {
          "base_uri": "https://localhost:8080/"
        },
        "id": "0I_za4Eu4zqJ",
        "outputId": "45272f67-b85f-4d61-9b4c-7a0b0afa6e5f"
      },
      "execution_count": 16,
      "outputs": [
        {
          "output_type": "stream",
          "name": "stdout",
          "text": [
            "구입금액 입력: 20000\n",
            "구입금액이 20000원 이상입니다.\n",
            "회원님의 배송료는 0입니다.\n"
          ]
        }
      ]
    },
    {
      "cell_type": "markdown",
      "source": [
        "3. 근무시간에 따라 초과근무와 정상근무를 판별하는 코드작성\n",
        "  - 변수: work_hour\n",
        "  - 수식:>=,기준시간:72시간"
      ],
      "metadata": {
        "id": "UifeER-q8Ih4"
      }
    },
    {
      "cell_type": "code",
      "source": [
        "work_hour=int(input(\"근무시간 입력: \"))\n",
        "if work_hour>=72:\n",
        "  print(\"초과근무하였습니다.\")\n",
        "else:\n",
        "  print(\"정상근무하였습니다.\")"
      ],
      "metadata": {
        "colab": {
          "base_uri": "https://localhost:8080/"
        },
        "id": "j6C-XF_o8fMY",
        "outputId": "6e2d85db-f673-4d60-aa23-f65976de33f8"
      },
      "execution_count": 17,
      "outputs": [
        {
          "output_type": "stream",
          "name": "stdout",
          "text": [
            "근무시간 입력: 73\n",
            "초과근무하였습니다.\n"
          ]
        }
      ]
    },
    {
      "cell_type": "markdown",
      "source": [
        "4. 정수를 입력받아서 홀수인지 짝수인지 판별하는 코드작성\n",
        " - 변수: num\n",
        " - 수식: (num % 2) !=0:"
      ],
      "metadata": {
        "id": "PxPsVF069_Oh"
      }
    },
    {
      "cell_type": "code",
      "source": [
        "num = int(input(\"정수를 입력하시오.: \"))\n",
        "if (num % 2) !=0:\n",
        "  print(\"홀수입니다.\")\n",
        "else:\n",
        "  print(\"짝수입니다.\")"
      ],
      "metadata": {
        "colab": {
          "base_uri": "https://localhost:8080/"
        },
        "id": "8vBl0g-K-vmy",
        "outputId": "4d45c35c-1d17-408f-8d6e-9e0be8eca5ee"
      },
      "execution_count": 18,
      "outputs": [
        {
          "output_type": "stream",
          "name": "stdout",
          "text": [
            "정수를 입력하시오,: 4\n",
            "짝수입니다.\n"
          ]
        }
      ]
    },
    {
      "cell_type": "markdown",
      "source": [
        "5. 사용자의 이름과 나이를 입력받고, 답변하는 코드 작성\n",
        " - 입력: 성명 - name\n",
        " - 입력: 나이 - age\n",
        " - 수식: if age <=20:\n",
        "\n",
        "최종출력물\n",
        "  - 이름을 입력하시오.: ***\n",
        "  - 나이를 입력하시오.: **\n",
        "  - (1) 프로그램을 배우는 최적의 나이입니다.\n",
        "  - (2) 아직도 늦지 않았습니다. 도전정신"
      ],
      "metadata": {
        "id": "-vBI_RDEAlvR"
      }
    },
    {
      "cell_type": "code",
      "source": [
        "name = input(\"이름을 입력하시오.: \")\n",
        "age=int(input(\"나이를 입력하시오.: \"))\n",
        "if (age<= 20):\n",
        "  print(\"프로그램을 배우는 최적의 나이입니다\")\n",
        "else:\n",
        "  print(\"아직도 늦지 않았습니다.도전정신\")"
      ],
      "metadata": {
        "colab": {
          "base_uri": "https://localhost:8080/"
        },
        "id": "JT2BOKKcBBwk",
        "outputId": "aca6c431-2c5a-4036-995e-78bc0617e8af"
      },
      "execution_count": 22,
      "outputs": [
        {
          "output_type": "stream",
          "name": "stdout",
          "text": [
            "이름을 입력하시오.: 전지영\n",
            "나이를 입력하시오.: 20\n",
            "프로그램을 배우는 최적의 나이입니다\n"
          ]
        }
      ]
    },
    {
      "cell_type": "code",
      "source": [
        "import random  # 파이썬 기본 라이브러리인 random을 사용합니다.\n",
        "\n",
        "def generate_lotto_numbers():  # 로또 번호를 생성하는 함수를 정의합니다.\n",
        "    numbers = []  # 빈 리스트를 생성하여 나중에 로또 번호를 저장합니다.\n",
        "\n",
        "    while len(numbers) < 6:  # 로또 번호가 6개가 될 때까지 반복합니다.\n",
        "        num = random.randint(1, 45)  # 1부터 45까지의 숫자 중 무작위로 하나를 선택합니다.\n",
        "        if num not in numbers:  # 만약 선택한 숫자가 아직 리스트에 없다면,\n",
        "            numbers.append(num)  # 그 숫자를 리스트에 추가합니다.\n",
        "\n",
        "    return sorted(numbers)  # 번호를 정렬하여 반환합니다.\n",
        "\n",
        "print(generate_lotto_numbers())  # 로또 번호를 생성하고 출력합니다."
      ],
      "metadata": {
        "colab": {
          "base_uri": "https://localhost:8080/"
        },
        "id": "ZI3sdDHnFKY6",
        "outputId": "aa0b901e-919e-4ff6-8ab1-227d384b667b"
      },
      "execution_count": 25,
      "outputs": [
        {
          "output_type": "stream",
          "name": "stdout",
          "text": [
            "[3, 16, 17, 26, 36, 38]\n"
          ]
        }
      ]
    },
    {
      "cell_type": "code",
      "source": [
        "# 사용자의 이름과 나이를 입력받는 파이썬 코드\n",
        "name = input(\"당신의 이름을 입력해주세요: \")  # input 함수를 사용하여 사용자의 이름을 입력받습니다.\n",
        "age = int(input(\"당신의 나이를 입력해주세요: \"))  # input 함수를 사용하여 사용자의 나이를 입력받습니다.\n",
        "\n",
        "print(\"안녕하세요, {}님. 당신은 {}살이시군요.\".format(name, age))  # format 함수를 사용하여 사용자의 이름과 나이를 출력 형식에 맞게 삽입합니다."
      ],
      "metadata": {
        "colab": {
          "base_uri": "https://localhost:8080/"
        },
        "id": "z3dt-U2pG24T",
        "outputId": "62e543ad-da25-4e5f-9835-48b19165dbb8"
      },
      "execution_count": 26,
      "outputs": [
        {
          "output_type": "stream",
          "name": "stdout",
          "text": [
            "당신의 이름을 입력해주세요: 전지영\n",
            "당신의 나이를 입력해주세요: 20\n",
            "안녕하세요, 전지영님. 당신은 20살이시군요.\n"
          ]
        }
      ]
    }
  ]
}