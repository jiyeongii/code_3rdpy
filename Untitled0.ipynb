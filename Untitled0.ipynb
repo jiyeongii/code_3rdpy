{
  "nbformat": 4,
  "nbformat_minor": 0,
  "metadata": {
    "colab": {
      "provenance": [],
      "authorship_tag": "ABX9TyNE75rBijJLTr0YsZpeDbsk",
      "include_colab_link": true
    },
    "kernelspec": {
      "name": "python3",
      "display_name": "Python 3"
    },
    "language_info": {
      "name": "python"
    }
  },
  "cells": [
    {
      "cell_type": "markdown",
      "metadata": {
        "id": "view-in-github",
        "colab_type": "text"
      },
      "source": [
        "<a href=\"https://colab.research.google.com/github/jiyeongii/code_3rdpy/blob/main/Untitled0.ipynb\" target=\"_parent\"><img src=\"https://colab.research.google.com/assets/colab-badge.svg\" alt=\"Open In Colab\"/></a>"
      ]
    },
    {
      "cell_type": "code",
      "execution_count": null,
      "metadata": {
        "id": "meumoaSTxpkJ"
      },
      "outputs": [],
      "source": []
    },
    {
      "cell_type": "markdown",
      "source": [
        "1. To-Do List를 작성하시오.\n",
        "\n",
        "- 2023년 10월 19일 전지영\n",
        "- (1) 09:20 도서관에서 책 빌리기\n",
        "- (2) 11:10 컴퓨팅적 사고와 기초코딩 수업\n",
        "- (3) 13:00 점심식사\n",
        "- (4) 14:00 교양수업\n",
        "- (5) 16:00 파이썬 공부 및 레포트 작성\n",
        "- (6) 17:40 저녁식사 및 집안일 돕기\n",
        "- (7) 19:00 LOL하기\n"
      ],
      "metadata": {
        "id": "_kjlLM7Bxr19"
      }
    },
    {
      "cell_type": "code",
      "source": [
        "\n",
        "print (\"To-Do List를 작성하시오.\")\n",
        "print(\"2023년 10월 19일 전지영\")\n",
        "print(\"(1) 09:20 도서관에서 책 빌리기\")\n",
        "print(\"(2) 11:10 컴퓨팅적 사고와 기초코딩 수업\")\n",
        "print(\"(3) 13:00 점심시간\")\n",
        "print(\"(4) 14:00 교양수업\")\n",
        "print(\"(5) 16:00 파이썬 공부 및 레포트 작성\")\n",
        "print(\"(6) 17;40 저녁식사 및 집안일 돕기\")\n",
        "print(\"(7) 19:00 LOL하기\")"
      ],
      "metadata": {
        "colab": {
          "base_uri": "https://localhost:8080/"
        },
        "id": "OCn-GwRRypWB",
        "outputId": "58f33400-4318-4829-cfd3-319415e964eb"
      },
      "execution_count": 2,
      "outputs": [
        {
          "output_type": "stream",
          "name": "stdout",
          "text": [
            "To-Do List를 작성하시오.\n",
            "2023년 10월 19일 전지영\n",
            "(1) 09:20 도서관에서 책 빌리기\n",
            "(2) 11:10 컴퓨팅적 사고와 기초코딩 수업\n",
            "(3) 13:00 점심시간\n",
            "(4) 14:00 교양수업\n",
            "(5) 16:00 파이썬 공부 및 레포트 작성\n",
            "(6) 17;40 저녁식사 및 집안일 돕기\n",
            "(7) 19:00 LOL하기\n"
          ]
        }
      ]
    },
    {
      "cell_type": "markdown",
      "source": [
        "2. 인사말 출력하기\n",
        "- 식사 하셨습니까? 행님"
      ],
      "metadata": {
        "id": "yZNkITvsyxiY"
      }
    },
    {
      "cell_type": "code",
      "source": [
        "print(\"식사는 하셨습니까? 행님\")"
      ],
      "metadata": {
        "colab": {
          "base_uri": "https://localhost:8080/"
        },
        "id": "0r-Mm8uJ2UHR",
        "outputId": "fba264a6-888c-4a30-bbf6-890fdbb8f890"
      },
      "execution_count": 4,
      "outputs": [
        {
          "output_type": "stream",
          "name": "stdout",
          "text": [
            "식사는 하셨습니까? 행님\n"
          ]
        }
      ]
    },
    {
      "cell_type": "markdown",
      "source": [
        "3. 학생 4명의 국어점수를 입력받아서 아래와 같이 출력하시오.\n",
        "- 박보검 : 90점\n",
        "- 션 : 92점\n",
        "- 도룡용 : 80점\n",
        "- 차은우 : 99점\n",
        "- 국어 점수 순위\n",
        "- 1등 차은우\n",
        "- 2등: 션\n",
        "- 3등 : 박보검\n",
        "- 4등 : 도룡용\n",
        "\n"
      ],
      "metadata": {
        "id": "YX8nKeqizKvw"
      }
    },
    {
      "cell_type": "code",
      "source": [
        "print(\"학생 4명의 국어점수를 입력받아서 아래와 같이 출력하시오.\")\n",
        "n1=(input(\"박보검의 값을 입력하시오.\"))\n",
        "n2=(input(\"션의 값을 입력하시오.\"))\n",
        "n3=(input(\"도룡용의 값을 입력하시오.\"))\n",
        "n4=(input(\"차은우의 값을 입력하시오.\"))\n",
        "print(\"1등 차은우\",n4,\"점\")\n",
        "print(\"2등 션\",n2,\"점\")\n",
        "print(\"3등 박보검\",n1,\"점\")\n",
        "print(\"4등 도룡용\",n3,\"점\")\n"
      ],
      "metadata": {
        "colab": {
          "base_uri": "https://localhost:8080/"
        },
        "id": "Yk1UuapkzAmw",
        "outputId": "a975ae0f-eb6d-4223-f41b-aeb838d4e2b7"
      },
      "execution_count": 8,
      "outputs": [
        {
          "output_type": "stream",
          "name": "stdout",
          "text": [
            "학생 4명의 국어점수를 입력받아서 아래와 같이 출력하시오.\n",
            "박보검의 값을 입력하시오.90\n",
            "션의 값을 입력하시오.92\n",
            "도룡용의 값을 입력하시오.80\n",
            "차은우의 값을 입력하시오.99\n",
            "1등 차은우 99 점\n",
            "2등 션 92 점\n",
            "3등 박보검 90 점\n",
            "4등 도룡용 80 점\n"
          ]
        }
      ]
    },
    {
      "cell_type": "markdown",
      "source": [
        "두개의 점수를 입력받아서 합계와 평균을 출력하시오."
      ],
      "metadata": {
        "id": "9Aeecgp_zl8C"
      }
    },
    {
      "cell_type": "code",
      "source": [
        "n1=int(input(\"n1의 값을 입력하시오.:\"))\n",
        "n2=int(input(\"n2의 값을 입력하시오.:\"))\n",
        "total= n1 + n2\n",
        "average = total // 2\n",
        "print(total)\n",
        "print(average)"
      ],
      "metadata": {
        "colab": {
          "base_uri": "https://localhost:8080/"
        },
        "id": "tXA8eg344c3R",
        "outputId": "34909f6a-1675-4d68-c5d7-d3cd3b28d275"
      },
      "execution_count": 13,
      "outputs": [
        {
          "output_type": "stream",
          "name": "stdout",
          "text": [
            "n1의 값을 입력하시오.:90\n",
            "n2의 값을 입력하시오.:92\n",
            "182\n",
            "91\n"
          ]
        }
      ]
    },
    {
      "cell_type": "markdown",
      "source": [],
      "metadata": {
        "id": "cz6ZoznNzuA3"
      }
    }
  ]
}